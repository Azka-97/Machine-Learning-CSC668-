{
 "cells": [
  {
   "cell_type": "code",
   "execution_count": null,
   "id": "f3b695d0-c8db-4947-9021-b3c5764391ec",
   "metadata": {},
   "outputs": [],
   "source": [
    "#TASK-1(Lists, Dictionaries and Tuples)"
   ]
  },
  {
   "cell_type": "code",
   "execution_count": 1,
   "id": "82f17aed-31bc-4310-bfcc-43091d3eada6",
   "metadata": {},
   "outputs": [
    {
     "name": "stdout",
     "output_type": "stream",
     "text": [
      "Question-1.1\n",
      "[27, 125, 343, 512, 1728]\n"
     ]
    }
   ],
   "source": [
    "\n",
    "nums = [3, 5, 7, 8, 12]\n",
    "print(f\"\\nQuestion-1.1\")\n",
    "cube = []\n",
    "for i in nums:\n",
    "    cube.append(i*i*i)\n",
    "print( cube)\n"
   ]
  },
  {
   "cell_type": "code",
   "execution_count": 2,
   "id": "32b3f5d2-7ab4-4a93-a72c-4e76fcf8c046",
   "metadata": {},
   "outputs": [
    {
     "name": "stdout",
     "output_type": "stream",
     "text": [
      "original dictionary:  {}\n",
      "updated dictionary:  {'parrot': 2, 'goat': 4, 'spider': 8, 'crab': 10}\n"
     ]
    }
   ],
   "source": [
    "print(f\"\\nQuestion-1.\")\n",
    "dict = {}\n",
    "print(\"original dictionary: \", dict)\n",
    "\n",
    "dict['parrot'] = 2 \n",
    "dict['goat'] = 4 \n",
    "dict['spider'] = 8  \n",
    "dict['crab'] = 10 \n",
    "\n",
    "print(\"updated dictionary: \", dict)"
   ]
  },
  {
   "cell_type": "code",
   "execution_count": 3,
   "id": "2fc30088-8033-4b48-9569-e22e2885502e",
   "metadata": {},
   "outputs": [
    {
     "name": "stdout",
     "output_type": "stream",
     "text": [
      "Animal:parrot    Legs:2\n",
      "Animal:goat    Legs:4\n",
      "Animal:spider    Legs:8\n",
      "Animal:crab    Legs:10\n",
      "sum of legs 24\n"
     ]
    }
   ],
   "source": [
    "print(f\"\\nQuestion-1.3\")\n",
    "res = 0\n",
    "for key, value in dict.items():\n",
    "   \n",
    "    print(f\"Animal:{key}    Legs:{value}\")\n",
    "    res += value\n",
    "print(\"sum of legs\",res)"
   ]
  },
  {
   "cell_type": "code",
   "execution_count": 4,
   "id": "5ae9f8de-068a-4efb-923e-c5fc7e69f5e0",
   "metadata": {},
   "outputs": [
    {
     "name": "stdout",
     "output_type": "stream",
     "text": [
      "(3, 9, 4, [5, 6])\n",
      "(3, 9, 4, [8, 6])\n"
     ]
    }
   ],
   "source": [
    "print(f\"\\nQuestion-1.4\")\n",
    "A = (3, 9, 4,[5,6])\n",
    "print(A)\n",
    "\n",
    "A[3][0] = 8\n",
    "print(A)"
   ]
  },
  {
   "cell_type": "code",
   "execution_count": 6,
   "id": "7c5b970b-f8e7-4620-aef9-8ca4b1dec177",
   "metadata": {},
   "outputs": [],
   "source": [
    "\n",
    "print(f\"\\nQuestion-1.5\")\n",
    "del A"
   ]
  },
  {
   "cell_type": "code",
   "execution_count": 2,
   "id": "fa6deb74-d22e-4370-92da-9a1d4fdbd8a8",
   "metadata": {},
   "outputs": [
    {
     "name": "stdout",
     "output_type": "stream",
     "text": [
      "\n",
      "Question-1.6\n",
      "2\n"
     ]
    }
   ],
   "source": [
    "print(f\"\\nQuestion-1.6\")\n",
    "B = ('a', 'p', 'p', 'l', 'e')\n",
    "print(B.count('p'))"
   ]
  },
  {
   "cell_type": "code",
   "execution_count": 14,
   "id": "51a977d9-21c4-4f8a-94a0-8667c53b8028",
   "metadata": {},
   "outputs": [
    {
     "name": "stdout",
     "output_type": "stream",
     "text": [
      "3\n"
     ]
    }
   ],
   "source": [
    "print(f\"Question-1.7\")\n",
    "B = ('a', 'p', 'p', 'l', 'e')\n",
    "print(B.index('l'))"
   ]
  },
  {
   "cell_type": "code",
   "execution_count": null,
   "id": "2462f5d4-dc8f-47af-b7a4-b8c7e00403a2",
   "metadata": {},
   "outputs": [],
   "source": [
    "#TASK-2(Numpy)"
   ]
  },
  {
   "cell_type": "code",
   "execution_count": 1,
   "id": "caf99ee4-ba6a-4e12-8510-7169abbc944b",
   "metadata": {},
   "outputs": [
    {
     "name": "stdout",
     "output_type": "stream",
     "text": [
      "\n",
      "Question-2.1\n",
      "[[ 1  2  3  4]\n",
      " [ 5  6  7  8]\n",
      " [ 9 10 11 12]]\n"
     ]
    }
   ],
   "source": [
    "print(\"\\nQuestion-2.1\")\n",
    "import numpy as np # type: ignore\n",
    "A = np.array([\n",
    "    [1, 2, 3, 4],\n",
    "    [5, 6, 7, 8],\n",
    "    [9, 10, 11, 12]\n",
    "])\n",
    "print(A)"
   ]
  },
  {
   "cell_type": "code",
   "execution_count": null,
   "id": "6b10f3f4-6973-41ca-889d-31a610d333a5",
   "metadata": {},
   "outputs": [],
   "source": [
    "print(\"\\nQuestion-2.2\")\n",
    "b = A[:2, :2]\n",
    "print(b)"
   ]
  },
  {
   "cell_type": "code",
   "execution_count": 3,
   "id": "879fde72-cc2a-437b-991d-561c6fbb9388",
   "metadata": {},
   "outputs": [
    {
     "name": "stdout",
     "output_type": "stream",
     "text": [
      "[[0 0 0 0]\n",
      " [0 0 0 0]\n",
      " [0 0 0 0]]\n"
     ]
    }
   ],
   "source": [
    "print(\"\\nQuestion-2.3\")\n",
    "C = np.zeros_like(A)\n",
    "print(C)"
   ]
  },
  {
   "cell_type": "code",
   "execution_count": 4,
   "id": "fb2b5c34-8a7e-4d00-a6cd-2be6bd23d881",
   "metadata": {},
   "outputs": [
    {
     "name": "stdout",
     "output_type": "stream",
     "text": [
      "[[ 2  3  4  5]\n",
      " [ 5  6  7  8]\n",
      " [10 11 12 13]]\n"
     ]
    }
   ],
   "source": [
    "print(\"\\nQuestion-2.4\")\n",
    "z = np.array([1, 0, 1])\n",
    "for i in range(A.shape[1]): \n",
    "    C[:, i] = A[:, i] + z  \n",
    "print(C)"
   ]
  },
  {
   "cell_type": "code",
   "execution_count": 5,
   "id": "850cd7a8-2dd1-450b-b9f1-ec42b7a3f999",
   "metadata": {},
   "outputs": [
    {
     "name": "stdout",
     "output_type": "stream",
     "text": [
      "Sum of X and Y is: [[ 6  8]\n",
      " [10 12]]\n"
     ]
    }
   ],
   "source": [
    "print(\"\\nQuestion-2.5\")\n",
    "X = np.array([[1,2],[3,4]])\n",
    "Y = np.array([[5,6],[7,8]])\n",
    "v = np.array([9,10])\n",
    "sum_result = X+Y\n",
    "print(\"Sum of X and Y is:\", sum_result)"
   ]
  },
  {
   "cell_type": "code",
   "execution_count": 6,
   "id": "5f689346-e742-4a6f-8148-99d299c48ba8",
   "metadata": {},
   "outputs": [
    {
     "name": "stdout",
     "output_type": "stream",
     "text": [
      "Product of X and Y is: [[ 5 12]\n",
      " [21 32]]\n"
     ]
    }
   ],
   "source": [
    "print(\"\\nQuestion-2.6\")\n",
    "mul_result = X*Y\n",
    "print(\"Product of X and Y is:\", mul_result)"
   ]
  },
  {
   "cell_type": "code",
   "execution_count": 7,
   "id": "28c5dd7c-59f1-4646-b701-2d10b2af5297",
   "metadata": {},
   "outputs": [
    {
     "name": "stdout",
     "output_type": "stream",
     "text": [
      "Elemant wise square root of X and Y is: [[2.23606798 2.44948974]\n",
      " [2.64575131 2.82842712]]\n"
     ]
    }
   ],
   "source": [
    "print(\"\\nQuestion-2.7\")\n",
    "sqrt_result = np.sqrt(Y)\n",
    "print(\"Elemant wise square root of X and Y is:\", sqrt_result)"
   ]
  },
  {
   "cell_type": "code",
   "execution_count": 8,
   "id": "6156f316-6695-420e-bb95-60ed4fab05f3",
   "metadata": {},
   "outputs": [
    {
     "name": "stdout",
     "output_type": "stream",
     "text": [
      "Product of X and v is: [29 67]\n"
     ]
    }
   ],
   "source": [
    "print(\"\\nQuestion-2.8\")\n",
    "dot_p_result = np.dot(X, v)\n",
    "print(\"Product of X and v is:\", dot_p_result)"
   ]
  },
  {
   "cell_type": "code",
   "execution_count": 9,
   "id": "165a41bf-8d17-472c-b4a9-ec27c3784973",
   "metadata": {},
   "outputs": [
    {
     "name": "stdout",
     "output_type": "stream",
     "text": [
      "\n",
      "Question-2.9\n",
      "Sum of each column of X:\n",
      " [4 6]\n"
     ]
    }
   ],
   "source": [
    "print(\"\\nQuestion-2.9\")\n",
    "column_s_result = np.sum(X, axis=0) #For row axis=1\n",
    "print(\"Sum of each column of X:\\n\", column_s_result)"
   ]
  },
  {
   "cell_type": "code",
   "execution_count": null,
   "id": "3533fcd8-64aa-4961-adfd-4ca3213c0b14",
   "metadata": {},
   "outputs": [],
   "source": [
    "#TASK-3(Functions and Loops)"
   ]
  },
  {
   "cell_type": "code",
   "execution_count": 1,
   "id": "717b2c4a-38f9-413e-812f-816675e9f928",
   "metadata": {},
   "outputs": [
    {
     "name": "stdout",
     "output_type": "stream",
     "text": [
      "\n",
      "Question-3.1\n",
      "The velocity is 20.0 m/s.\n"
     ]
    }
   ],
   "source": [
    "print(\"\\nQuestion-3.1\")\n",
    "def Compute(Dis, T):\n",
    "    Vel = Dis / T\n",
    "    return Vel\n",
    "distance = 80\n",
    "time = 4\n",
    "Vel = Compute(distance, time)\n",
    "print(f\"The velocity is {Vel} m/s.\")"
   ]
  },
  {
   "cell_type": "code",
   "execution_count": 2,
   "id": "19d4bb57-b5ac-4043-a361-ea10c9b7d850",
   "metadata": {},
   "outputs": [
    {
     "name": "stdout",
     "output_type": "stream",
     "text": [
      "\n",
      "Question-3.2\n",
      "46080\n"
     ]
    }
   ],
   "source": [
    "print(\"\\nQuestion-3.2\")\n",
    "\n",
    "even_num = [2, 4, 6, 8, 10, 12]\n",
    "def mult(even_num):\n",
    "    product = 1\n",
    "    for num in even_num:\n",
    "        product *= num\n",
    "    return product\n",
    "product_of_even_num = mult(even_num)\n",
    "print(product_of_even_num)"
   ]
  },
  {
   "cell_type": "code",
   "execution_count": null,
   "id": "61a69454-8d01-4a77-9fe2-5bc01d2bd585",
   "metadata": {},
   "outputs": [],
   "source": [
    "#TASK-4(PANDA)"
   ]
  },
  {
   "cell_type": "code",
   "execution_count": 1,
   "id": "85764b93-8ac6-4e87-9c2e-ff5d8d37e44c",
   "metadata": {},
   "outputs": [
    {
     "name": "stdout",
     "output_type": "stream",
     "text": [
      "Question-4.1\n",
      "   C1  C2  C3  C4\n",
      "0   1   6   7   7\n",
      "1   2   7   9   5\n",
      "2   3   5   8   2\n",
      "3   5   4   6   8\n",
      "4   5   8   5   8\n"
     ]
    }
   ],
   "source": [
    "print(\"Question-4.1\")\n",
    "import pandas as pd\n",
    "d = {'C1': [1, 2, 3, 5, 5], 'C2': [6, 7, 5, 4, 8], 'C3': [7, 9, 8, 6, 5],'C4': [7, 5, 2, 8, 8],}\n",
    "df = pd.DataFrame(data=d)\n",
    "print(df)"
   ]
  },
  {
   "cell_type": "code",
   "execution_count": 2,
   "id": "a3487359-d8a7-4b5b-9f22-9092f6e1386c",
   "metadata": {},
   "outputs": [
    {
     "name": "stdout",
     "output_type": "stream",
     "text": [
      "Question-4.1\n",
      "   C1  C2  C3  C4\n",
      "0   1   6   7   7\n",
      "1   2   7   9   5\n"
     ]
    }
   ],
   "source": [
    "print(\"Question-4.1\")\n",
    "print (df.head(2))"
   ]
  },
  {
   "cell_type": "code",
   "execution_count": 3,
   "id": "fbfc2a81-1532-45cb-ba6f-32b76758253a",
   "metadata": {},
   "outputs": [
    {
     "name": "stdout",
     "output_type": "stream",
     "text": [
      "Question-4.2\n",
      "0    6\n",
      "1    7\n",
      "2    5\n",
      "3    4\n",
      "4    8\n",
      "Name: C2, dtype: int64\n"
     ]
    }
   ],
   "source": [
    "print(\"Question-4.2\")\n",
    "print(df['C2'])"
   ]
  },
  {
   "cell_type": "code",
   "execution_count": 4,
   "id": "c4fab228-6cf3-4f4b-954e-41eabfff6f11",
   "metadata": {},
   "outputs": [
    {
     "name": "stdout",
     "output_type": "stream",
     "text": [
      "Question-4.3\n",
      "   C1  C2  B3  C4\n",
      "0   1   6   7   7\n",
      "1   2   7   9   5\n",
      "2   3   5   8   2\n",
      "3   5   4   6   8\n",
      "4   5   8   5   8\n"
     ]
    }
   ],
   "source": [
    "print(\"Question-4.3\")\n",
    "df.rename(columns={'C3': 'B3'}, inplace=True)\n",
    "print(df)"
   ]
  },
  {
   "cell_type": "code",
   "execution_count": 7,
   "id": "62ed9e15-8ce5-4845-bf30-e24ff2412bcf",
   "metadata": {},
   "outputs": [
    {
     "name": "stdout",
     "output_type": "stream",
     "text": [
      "Question-4.4\n",
      "   C1  C2  B3  C4  Sum\n",
      "0   1   6   7   7  NaN\n",
      "1   2   7   9   5  NaN\n",
      "2   3   5   8   2  NaN\n",
      "3   5   4   6   8  NaN\n",
      "4   5   8   5   8  NaN\n"
     ]
    }
   ],
   "source": [
    "print(\"Question-4.4\")\n",
    "lst = df.sum()\n",
    "df['Sum'] = lst\n",
    "print(df)"
   ]
  },
  {
   "cell_type": "code",
   "execution_count": 8,
   "id": "25f7ec31-ed73-4fbb-93ae-f87b46e0443f",
   "metadata": {},
   "outputs": [
    {
     "name": "stdout",
     "output_type": "stream",
     "text": [
      "   C1  C2  B3  C4   Sum\n",
      "0   1   6   7   7  21.0\n",
      "1   2   7   9   5  23.0\n",
      "2   3   5   8   2  18.0\n",
      "3   5   4   6   8  23.0\n",
      "4   5   8   5   8  26.0\n"
     ]
    }
   ],
   "source": [
    "df['Sum'] = df.sum(axis=1)\n",
    "print(df)"
   ]
  },
  {
   "cell_type": "code",
   "execution_count": 16,
   "id": "699f841a-f145-4444-a8ae-33d6b580dda0",
   "metadata": {},
   "outputs": [],
   "source": [
    "print(\"Question-4.6\")\n",
    "df = pd.read_csv(r'hello_sample.csv')\n"
   ]
  },
  {
   "cell_type": "code",
   "execution_count": 17,
   "id": "70ff4cee-aa8f-44b6-8954-4c6a1f7fe073",
   "metadata": {},
   "outputs": [
    {
     "name": "stdout",
     "output_type": "stream",
     "text": [
      "    Gender  F_Color     B_Month  Weight\n",
      "0     Male    Black       March      77\n",
      "1     Male      Red       March      72\n",
      "2     Male    Black     October      53\n",
      "3   Female     Blue    February      63\n",
      "4     Male    black    October       80\n",
      "5   Female    Black    december      97\n",
      "6     Male   Orange      August      60\n",
      "7   Female      Red   September      59\n",
      "8     Male     Blue        July      60\n",
      "9     Male     Blue         May      58\n",
      "10  Female      Red    October       60\n",
      "11    Male    Black   September      65\n",
      "12    Male    Green    December      85\n",
      "13    Male    Black       April      72\n",
      "14    Male    Green    January       90\n",
      "15    Male   Yellow   November       90\n",
      "16    Male    Black      August      54\n",
      "17    Male    Black     January      82\n",
      "18    Male  Mustard   December       60\n",
      "19  Female    Black    October       76\n",
      "20    Male    Black   February       67\n",
      "21    Male   Yellow       April      74\n",
      "22    Male      Red  September       66\n"
     ]
    }
   ],
   "source": [
    "print(\"Question-4.7\")\n",
    "print(df.to_string())"
   ]
  },
  {
   "cell_type": "code",
   "execution_count": 18,
   "id": "a8c0b2d1-2138-4194-b965-8628927bf6fc",
   "metadata": {},
   "outputs": [
    {
     "name": "stdout",
     "output_type": "stream",
     "text": [
      "   Gender F_Color     B_Month  Weight\n",
      "21   Male  Yellow       April      74\n",
      "22   Male     Red  September       66\n"
     ]
    }
   ],
   "source": [
    "print(\"Question-4.8\")\n",
    "print(df.tail(2))"
   ]
  },
  {
   "cell_type": "code",
   "execution_count": 19,
   "id": "0fadc906-03a5-4b57-a57f-6b0d824cca36",
   "metadata": {},
   "outputs": [
    {
     "name": "stdout",
     "output_type": "stream",
     "text": [
      "<class 'pandas.core.frame.DataFrame'>\n",
      "RangeIndex: 23 entries, 0 to 22\n",
      "Data columns (total 4 columns):\n",
      " #   Column   Non-Null Count  Dtype \n",
      "---  ------   --------------  ----- \n",
      " 0   Gender   23 non-null     object\n",
      " 1   F_Color  23 non-null     object\n",
      " 2   B_Month  23 non-null     object\n",
      " 3   Weight   23 non-null     int64 \n",
      "dtypes: int64(1), object(3)\n",
      "memory usage: 868.0+ bytes\n",
      "None\n"
     ]
    }
   ],
   "source": [
    "print(\"Question-4.9\")\n",
    "print(df.info())"
   ]
  },
  {
   "cell_type": "code",
   "execution_count": 20,
   "id": "424a74ca-cc1d-4969-add6-9468298a6115",
   "metadata": {},
   "outputs": [
    {
     "name": "stdout",
     "output_type": "stream",
     "text": [
      "(23, 4)\n"
     ]
    }
   ],
   "source": [
    "print(df.shape)"
   ]
  },
  {
   "cell_type": "code",
   "execution_count": 21,
   "id": "fee24e5c-2c1e-46a2-ac31-c1650ee12e20",
   "metadata": {},
   "outputs": [
    {
     "name": "stdout",
     "output_type": "stream",
     "text": [
      "    Gender  F_Color     B_Month  Weight\n",
      "2     Male    Black     October      53\n",
      "16    Male    Black      August      54\n",
      "9     Male     Blue         May      58\n",
      "7   Female      Red   September      59\n",
      "18    Male  Mustard   December       60\n",
      "10  Female      Red    October       60\n",
      "6     Male   Orange      August      60\n",
      "8     Male     Blue        July      60\n",
      "3   Female     Blue    February      63\n",
      "11    Male    Black   September      65\n",
      "22    Male      Red  September       66\n",
      "20    Male    Black   February       67\n",
      "13    Male    Black       April      72\n",
      "1     Male      Red       March      72\n",
      "21    Male   Yellow       April      74\n",
      "19  Female    Black    October       76\n",
      "0     Male    Black       March      77\n",
      "4     Male    black    October       80\n",
      "17    Male    Black     January      82\n",
      "12    Male    Green    December      85\n",
      "14    Male    Green    January       90\n",
      "15    Male   Yellow   November       90\n",
      "5   Female    Black    december      97\n"
     ]
    }
   ],
   "source": [
    "print(\"Question-4.10\")\n",
    "df_sorted = df.sort_values(by='Weight')\n",
    "print(df_sorted)"
   ]
  },
  {
   "cell_type": "code",
   "execution_count": 22,
   "id": "65024067-577c-4957-b792-b1be13d34ded",
   "metadata": {},
   "outputs": [
    {
     "name": "stdout",
     "output_type": "stream",
     "text": [
      "    Gender  F_Color  B_Month  Weight\n",
      "0    False    False    False   False\n",
      "1    False    False    False   False\n",
      "2    False    False    False   False\n",
      "3    False    False    False   False\n",
      "4    False    False    False   False\n",
      "5    False    False    False   False\n",
      "6    False    False    False   False\n",
      "7    False    False    False   False\n",
      "8    False    False    False   False\n",
      "9    False    False    False   False\n",
      "10   False    False    False   False\n",
      "11   False    False    False   False\n",
      "12   False    False    False   False\n",
      "13   False    False    False   False\n",
      "14   False    False    False   False\n",
      "15   False    False    False   False\n",
      "16   False    False    False   False\n",
      "17   False    False    False   False\n",
      "18   False    False    False   False\n",
      "19   False    False    False   False\n",
      "20   False    False    False   False\n",
      "21   False    False    False   False\n",
      "22   False    False    False   False\n"
     ]
    }
   ],
   "source": [
    "print(\"Question-4.11\")\n",
    "print(df.isnull())"
   ]
  },
  {
   "cell_type": "code",
   "execution_count": 23,
   "id": "82d3af79-6c1e-417f-9634-7fe9c94b5537",
   "metadata": {},
   "outputs": [
    {
     "name": "stdout",
     "output_type": "stream",
     "text": [
      "    Gender  F_Color     B_Month  Weight\n",
      "0     Male    Black       March      77\n",
      "1     Male      Red       March      72\n",
      "2     Male    Black     October      53\n",
      "3   Female     Blue    February      63\n",
      "4     Male    black    October       80\n",
      "5   Female    Black    december      97\n",
      "6     Male   Orange      August      60\n",
      "7   Female      Red   September      59\n",
      "8     Male     Blue        July      60\n",
      "9     Male     Blue         May      58\n",
      "10  Female      Red    October       60\n",
      "11    Male    Black   September      65\n",
      "12    Male    Green    December      85\n",
      "13    Male    Black       April      72\n",
      "14    Male    Green    January       90\n",
      "15    Male   Yellow   November       90\n",
      "16    Male    Black      August      54\n",
      "17    Male    Black     January      82\n",
      "18    Male  Mustard   December       60\n",
      "19  Female    Black    October       76\n",
      "20    Male    Black   February       67\n",
      "21    Male   Yellow       April      74\n",
      "22    Male      Red  September       66\n"
     ]
    }
   ],
   "source": [
    "print(\"Question-4.12\")\n",
    "print(df.dropna())\n"
   ]
  }
 ],
 "metadata": {
  "kernelspec": {
   "display_name": "Python 3 (ipykernel)",
   "language": "python",
   "name": "python3"
  },
  "language_info": {
   "codemirror_mode": {
    "name": "ipython",
    "version": 3
   },
   "file_extension": ".py",
   "mimetype": "text/x-python",
   "name": "python",
   "nbconvert_exporter": "python",
   "pygments_lexer": "ipython3",
   "version": "3.12.6"
  }
 },
 "nbformat": 4,
 "nbformat_minor": 5
}
